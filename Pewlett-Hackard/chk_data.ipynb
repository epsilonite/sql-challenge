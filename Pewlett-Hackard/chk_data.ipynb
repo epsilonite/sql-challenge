{
 "cells": [
  {
   "cell_type": "markdown",
   "id": "94c5727a-bf9a-4b57-9c80-cb7074e53f38",
   "metadata": {},
   "source": [
    "# Pewlett Hackard Data Exploration\n",
    "---"
   ]
  },
  {
   "cell_type": "code",
   "execution_count": 1,
   "id": "9169d7c6-0a7e-45bf-bed1-f3b8828fba0f",
   "metadata": {},
   "outputs": [],
   "source": [
    "import pandas as pd"
   ]
  },
  {
   "cell_type": "markdown",
   "id": "cd418f40-4654-49dc-a7f0-85b822550e86",
   "metadata": {},
   "source": [
    "## Load Data"
   ]
  },
  {
   "cell_type": "code",
   "execution_count": 2,
   "id": "9c7520f9-da69-4fa1-8a8d-589f9df174bc",
   "metadata": {},
   "outputs": [],
   "source": [
    "emp_df = pd.read_csv('data/employees.csv')\n",
    "ttl_df = pd.read_csv('data/titles.csv')\n",
    "slry_df = pd.read_csv('data/salaries.csv')\n",
    "dept_df = pd.read_csv('data/departments.csv')\n",
    "dept_emp_df = pd.read_csv('data/dept_emp.csv')\n",
    "dept_mng_df = pd.read_csv('data/dept_manager.csv')"
   ]
  },
  {
   "cell_type": "markdown",
   "id": "a4c4c8f6-0ca6-4ce1-aeba-d208ba1440a2",
   "metadata": {},
   "source": [
    "## Examine Data"
   ]
  },
  {
   "cell_type": "markdown",
   "id": "186a6b24-1e89-4782-8462-2cb7fcd957a3",
   "metadata": {},
   "source": [
    "#### 1 employees.csv | check last entry"
   ]
  },
  {
   "cell_type": "code",
   "execution_count": 3,
   "id": "826b8b7b-a5ee-42d1-906b-2c5d343750e3",
   "metadata": {},
   "outputs": [
    {
     "data": {
      "text/html": [
       "<div>\n",
       "<style scoped>\n",
       "    .dataframe tbody tr th:only-of-type {\n",
       "        vertical-align: middle;\n",
       "    }\n",
       "\n",
       "    .dataframe tbody tr th {\n",
       "        vertical-align: top;\n",
       "    }\n",
       "\n",
       "    .dataframe thead th {\n",
       "        text-align: right;\n",
       "    }\n",
       "</style>\n",
       "<table border=\"1\" class=\"dataframe\">\n",
       "  <thead>\n",
       "    <tr style=\"text-align: right;\">\n",
       "      <th></th>\n",
       "      <th>emp_no</th>\n",
       "      <th>emp_title_id</th>\n",
       "      <th>birth_date</th>\n",
       "      <th>first_name</th>\n",
       "      <th>last_name</th>\n",
       "      <th>sex</th>\n",
       "      <th>hire_date</th>\n",
       "    </tr>\n",
       "  </thead>\n",
       "  <tbody>\n",
       "    <tr>\n",
       "      <th>300023</th>\n",
       "      <td>464503</td>\n",
       "      <td>s0002</td>\n",
       "      <td>5/31/1964</td>\n",
       "      <td>Arvind</td>\n",
       "      <td>Slobodova</td>\n",
       "      <td>M</td>\n",
       "      <td>11/23/1987</td>\n",
       "    </tr>\n",
       "  </tbody>\n",
       "</table>\n",
       "</div>"
      ],
      "text/plain": [
       "        emp_no emp_title_id birth_date first_name  last_name sex   hire_date\n",
       "300023  464503        s0002  5/31/1964     Arvind  Slobodova   M  11/23/1987"
      ]
     },
     "execution_count": 3,
     "metadata": {},
     "output_type": "execute_result"
    }
   ],
   "source": [
    "emp_df.tail(1)"
   ]
  },
  {
   "cell_type": "markdown",
   "id": "c9756342-2153-4e66-81b2-49c1c3e6efc0",
   "metadata": {},
   "source": [
    "#### 1 employees.csv | check largest values of each entry and unique values where relevant"
   ]
  },
  {
   "cell_type": "code",
   "execution_count": 32,
   "id": "3a90d46b-d66a-48f9-a248-d093da3724f6",
   "metadata": {},
   "outputs": [
    {
     "name": "stdout",
     "output_type": "stream",
     "text": [
      "emp_no max: 499999\n"
     ]
    }
   ],
   "source": [
    "print(f'emp_no max: {emp_df.emp_no.astype(int).max()}')"
   ]
  },
  {
   "cell_type": "code",
   "execution_count": 34,
   "id": "a8132c7a-50d0-4ce9-a12c-f693b8fad4dc",
   "metadata": {},
   "outputs": [
    {
     "name": "stdout",
     "output_type": "stream",
     "text": [
      "title_id max strlen: 5 ['s0001' 'e0002' 'e0003' 's0002' 'e0004' 'e0001' 'm0001']\n"
     ]
    }
   ],
   "source": [
    "print(f'title_id max strlen: {emp_df.emp_title_id.str.len().max()} {emp_df.emp_title_id.unique()}')"
   ]
  },
  {
   "cell_type": "code",
   "execution_count": 35,
   "id": "8bea7ec9-39ff-45fc-85e1-38c9e57b1ad2",
   "metadata": {},
   "outputs": [
    {
     "name": "stdout",
     "output_type": "stream",
     "text": [
      "dob max strlen: 10\n"
     ]
    }
   ],
   "source": [
    "print(f'dob max strlen: {emp_df.birth_date.str.len().max()}')"
   ]
  },
  {
   "cell_type": "code",
   "execution_count": 36,
   "id": "3984de58-5d1c-45cb-846e-3979d4e21cf3",
   "metadata": {},
   "outputs": [
    {
     "name": "stdout",
     "output_type": "stream",
     "text": [
      "first_name max strlen: 14\n"
     ]
    }
   ],
   "source": [
    "print(f'first_name max strlen: {emp_df.first_name.str.len().max()}')"
   ]
  },
  {
   "cell_type": "code",
   "execution_count": 37,
   "id": "4d85d78c-14c3-4fe8-b54b-700a944b2f44",
   "metadata": {},
   "outputs": [
    {
     "name": "stdout",
     "output_type": "stream",
     "text": [
      "last_name max strlen: 16\n"
     ]
    }
   ],
   "source": [
    "print(f'last_name max strlen: {emp_df.last_name.str.len().max()}')"
   ]
  },
  {
   "cell_type": "code",
   "execution_count": 38,
   "id": "f672a44a-1104-4f46-a060-5bd46f308338",
   "metadata": {},
   "outputs": [
    {
     "name": "stdout",
     "output_type": "stream",
     "text": [
      "sex max strlen: 1 ['M' 'F']\n"
     ]
    }
   ],
   "source": [
    "print(f'sex max strlen: {emp_df.sex.str.len().max()} {emp_df.sex.unique()}')"
   ]
  },
  {
   "cell_type": "markdown",
   "id": "7043225c-afde-44b3-8e57-a1ea3dc9d47d",
   "metadata": {},
   "source": [
    "#### 2 titles.csv | check last entry"
   ]
  },
  {
   "cell_type": "code",
   "execution_count": 45,
   "id": "43a985fc-0327-4f26-9bc9-4f2e455e5714",
   "metadata": {},
   "outputs": [
    {
     "data": {
      "text/html": [
       "<div>\n",
       "<style scoped>\n",
       "    .dataframe tbody tr th:only-of-type {\n",
       "        vertical-align: middle;\n",
       "    }\n",
       "\n",
       "    .dataframe tbody tr th {\n",
       "        vertical-align: top;\n",
       "    }\n",
       "\n",
       "    .dataframe thead th {\n",
       "        text-align: right;\n",
       "    }\n",
       "</style>\n",
       "<table border=\"1\" class=\"dataframe\">\n",
       "  <thead>\n",
       "    <tr style=\"text-align: right;\">\n",
       "      <th></th>\n",
       "      <th>title_id</th>\n",
       "      <th>title</th>\n",
       "    </tr>\n",
       "  </thead>\n",
       "  <tbody>\n",
       "    <tr>\n",
       "      <th>6</th>\n",
       "      <td>m0001</td>\n",
       "      <td>Manager</td>\n",
       "    </tr>\n",
       "  </tbody>\n",
       "</table>\n",
       "</div>"
      ],
      "text/plain": [
       "  title_id    title\n",
       "6    m0001  Manager"
      ]
     },
     "execution_count": 45,
     "metadata": {},
     "output_type": "execute_result"
    }
   ],
   "source": [
    "ttl_df.tail(1)"
   ]
  },
  {
   "cell_type": "markdown",
   "id": "3f62917b-9c5d-485c-b1c7-80dad2a60b76",
   "metadata": {},
   "source": [
    "#### 2 titles.csv | check max string length and unique values where relevant"
   ]
  },
  {
   "cell_type": "code",
   "execution_count": 46,
   "id": "4eb154e6-5161-411b-876e-bb42f04d1bd8",
   "metadata": {},
   "outputs": [
    {
     "name": "stdout",
     "output_type": "stream",
     "text": [
      "title_id max strlen: 5\n",
      "title_id unique: 7 ['s0001' 's0002' 'e0001' 'e0002' 'e0003' 'e0004' 'm0001']\n"
     ]
    }
   ],
   "source": [
    "print(f'title_id max strlen: {ttl_df.title_id.str.len().max()}')\n",
    "print(f'title_id unique: {ttl_df.title_id.nunique()} {ttl_df.title_id.unique()}')"
   ]
  },
  {
   "cell_type": "code",
   "execution_count": 48,
   "id": "08b90e0d-daab-432b-892f-116dc737c8c3",
   "metadata": {},
   "outputs": [
    {
     "name": "stdout",
     "output_type": "stream",
     "text": [
      "title max strlen: 18\n",
      "title unique: 7\n"
     ]
    }
   ],
   "source": [
    "print(f'title max strlen: {ttl_df.title.str.len().max()}')\n",
    "print(f'title unique: {ttl_df.title.nunique()}')"
   ]
  },
  {
   "cell_type": "markdown",
   "id": "9847781b-1b49-4894-a777-eea378dac069",
   "metadata": {},
   "source": [
    "#### 3 salaries.csv | check last entry"
   ]
  },
  {
   "cell_type": "code",
   "execution_count": 45,
   "id": "0714da83-7e06-49b8-8bd0-3c61ec7af036",
   "metadata": {},
   "outputs": [
    {
     "data": {
      "text/html": [
       "<div>\n",
       "<style scoped>\n",
       "    .dataframe tbody tr th:only-of-type {\n",
       "        vertical-align: middle;\n",
       "    }\n",
       "\n",
       "    .dataframe tbody tr th {\n",
       "        vertical-align: top;\n",
       "    }\n",
       "\n",
       "    .dataframe thead th {\n",
       "        text-align: right;\n",
       "    }\n",
       "</style>\n",
       "<table border=\"1\" class=\"dataframe\">\n",
       "  <thead>\n",
       "    <tr style=\"text-align: right;\">\n",
       "      <th></th>\n",
       "      <th>emp_no</th>\n",
       "      <th>salary</th>\n",
       "    </tr>\n",
       "  </thead>\n",
       "  <tbody>\n",
       "    <tr>\n",
       "      <th>300023</th>\n",
       "      <td>499999</td>\n",
       "      <td>63707</td>\n",
       "    </tr>\n",
       "  </tbody>\n",
       "</table>\n",
       "</div>"
      ],
      "text/plain": [
       "        emp_no  salary\n",
       "300023  499999   63707"
      ]
     },
     "execution_count": 45,
     "metadata": {},
     "output_type": "execute_result"
    }
   ],
   "source": [
    "slry_df.tail(1)"
   ]
  },
  {
   "cell_type": "markdown",
   "id": "4c0b0361-073b-42b1-81cc-9a92e7b02ace",
   "metadata": {},
   "source": [
    "#### 3 salaries.csv | check max values"
   ]
  },
  {
   "cell_type": "code",
   "execution_count": 49,
   "id": "8cbbac25-7c5f-417e-bf1d-6c29c7860471",
   "metadata": {},
   "outputs": [
    {
     "name": "stdout",
     "output_type": "stream",
     "text": [
      "salary max: 129492\n"
     ]
    }
   ],
   "source": [
    "print(f'salary max: {slry_df.salary.astype(int).max()}')"
   ]
  },
  {
   "cell_type": "markdown",
   "id": "9b0375da-bd8c-4ddf-9de0-92060d0511d4",
   "metadata": {},
   "source": [
    "#### 4 departments.csv | check last entry"
   ]
  },
  {
   "cell_type": "code",
   "execution_count": 11,
   "id": "d4d967be-a724-4225-bd1e-b01542df7315",
   "metadata": {},
   "outputs": [
    {
     "data": {
      "text/html": [
       "<div>\n",
       "<style scoped>\n",
       "    .dataframe tbody tr th:only-of-type {\n",
       "        vertical-align: middle;\n",
       "    }\n",
       "\n",
       "    .dataframe tbody tr th {\n",
       "        vertical-align: top;\n",
       "    }\n",
       "\n",
       "    .dataframe thead th {\n",
       "        text-align: right;\n",
       "    }\n",
       "</style>\n",
       "<table border=\"1\" class=\"dataframe\">\n",
       "  <thead>\n",
       "    <tr style=\"text-align: right;\">\n",
       "      <th></th>\n",
       "      <th>dept_no</th>\n",
       "      <th>dept_name</th>\n",
       "    </tr>\n",
       "  </thead>\n",
       "  <tbody>\n",
       "    <tr>\n",
       "      <th>8</th>\n",
       "      <td>d009</td>\n",
       "      <td>Customer Service</td>\n",
       "    </tr>\n",
       "  </tbody>\n",
       "</table>\n",
       "</div>"
      ],
      "text/plain": [
       "  dept_no         dept_name\n",
       "8    d009  Customer Service"
      ]
     },
     "execution_count": 11,
     "metadata": {},
     "output_type": "execute_result"
    }
   ],
   "source": [
    "dept_df.tail(1)"
   ]
  },
  {
   "cell_type": "markdown",
   "id": "4b6fa52c-98b0-4527-82b3-d147b2b7c2ba",
   "metadata": {},
   "source": [
    "#### departments.csv | check max string length and unique values where relevant"
   ]
  },
  {
   "cell_type": "code",
   "execution_count": 52,
   "id": "c49f8915-d845-44bb-aac6-30de90337b33",
   "metadata": {},
   "outputs": [
    {
     "name": "stdout",
     "output_type": "stream",
     "text": [
      "dept_no max strlen: 4\n",
      "dept_no unique: 9 ['d001' 'd002' 'd003' 'd004' 'd005' 'd006' 'd007' 'd008' 'd009']\n"
     ]
    }
   ],
   "source": [
    "print(f'dept_no max strlen: {dept_df.dept_no.str.len().max()}')\n",
    "print(f'dept_no unique: {dept_df.dept_no.nunique()} {dept_df.dept_no.unique()}')"
   ]
  },
  {
   "cell_type": "code",
   "execution_count": 53,
   "id": "881e2ce1-23b5-43a8-a528-d5f3b8a82a2e",
   "metadata": {},
   "outputs": [
    {
     "name": "stdout",
     "output_type": "stream",
     "text": [
      "dept_name max strlen: 18\n",
      "dept_name unique: 9\n"
     ]
    }
   ],
   "source": [
    "print(f'dept_name max strlen: {dept_df.dept_name.str.len().max()}')\n",
    "print(f'dept_name unique: {dept_df.dept_name.nunique()}')"
   ]
  },
  {
   "cell_type": "markdown",
   "id": "365ec493-698f-4dc6-93c6-30e6c17014f0",
   "metadata": {},
   "source": [
    "#### 5 dept_emp.csv | check last entry"
   ]
  },
  {
   "cell_type": "code",
   "execution_count": 30,
   "id": "e115072b-9c44-4ddf-b60d-2788f8d00c83",
   "metadata": {},
   "outputs": [
    {
     "data": {
      "text/html": [
       "<div>\n",
       "<style scoped>\n",
       "    .dataframe tbody tr th:only-of-type {\n",
       "        vertical-align: middle;\n",
       "    }\n",
       "\n",
       "    .dataframe tbody tr th {\n",
       "        vertical-align: top;\n",
       "    }\n",
       "\n",
       "    .dataframe thead th {\n",
       "        text-align: right;\n",
       "    }\n",
       "</style>\n",
       "<table border=\"1\" class=\"dataframe\">\n",
       "  <thead>\n",
       "    <tr style=\"text-align: right;\">\n",
       "      <th></th>\n",
       "      <th>emp_no</th>\n",
       "      <th>dept_no</th>\n",
       "    </tr>\n",
       "  </thead>\n",
       "  <tbody>\n",
       "    <tr>\n",
       "      <th>331602</th>\n",
       "      <td>499999</td>\n",
       "      <td>d004</td>\n",
       "    </tr>\n",
       "  </tbody>\n",
       "</table>\n",
       "</div>"
      ],
      "text/plain": [
       "        emp_no dept_no\n",
       "331602  499999    d004"
      ]
     },
     "execution_count": 30,
     "metadata": {},
     "output_type": "execute_result"
    }
   ],
   "source": [
    "dept_emp_df.tail(1)"
   ]
  },
  {
   "cell_type": "markdown",
   "id": "4262575f-b8c8-4b34-bd6b-5d6b00e4e238",
   "metadata": {},
   "source": [
    "#### 5 dept_manager.csv | check last entry"
   ]
  },
  {
   "cell_type": "code",
   "execution_count": 33,
   "id": "d632f170-3edb-4948-894f-56dee74988bd",
   "metadata": {},
   "outputs": [
    {
     "data": {
      "text/html": [
       "<div>\n",
       "<style scoped>\n",
       "    .dataframe tbody tr th:only-of-type {\n",
       "        vertical-align: middle;\n",
       "    }\n",
       "\n",
       "    .dataframe tbody tr th {\n",
       "        vertical-align: top;\n",
       "    }\n",
       "\n",
       "    .dataframe thead th {\n",
       "        text-align: right;\n",
       "    }\n",
       "</style>\n",
       "<table border=\"1\" class=\"dataframe\">\n",
       "  <thead>\n",
       "    <tr style=\"text-align: right;\">\n",
       "      <th></th>\n",
       "      <th>dept_no</th>\n",
       "      <th>emp_no</th>\n",
       "    </tr>\n",
       "  </thead>\n",
       "  <tbody>\n",
       "    <tr>\n",
       "      <th>23</th>\n",
       "      <td>d009</td>\n",
       "      <td>111939</td>\n",
       "    </tr>\n",
       "  </tbody>\n",
       "</table>\n",
       "</div>"
      ],
      "text/plain": [
       "   dept_no  emp_no\n",
       "23    d009  111939"
      ]
     },
     "execution_count": 33,
     "metadata": {},
     "output_type": "execute_result"
    }
   ],
   "source": [
    "dept_mng_df.tail(1)"
   ]
  }
 ],
 "metadata": {
  "kernelspec": {
   "display_name": "Python 3 (ipykernel)",
   "language": "python",
   "name": "python3"
  },
  "language_info": {
   "codemirror_mode": {
    "name": "ipython",
    "version": 3
   },
   "file_extension": ".py",
   "mimetype": "text/x-python",
   "name": "python",
   "nbconvert_exporter": "python",
   "pygments_lexer": "ipython3",
   "version": "3.10.14"
  }
 },
 "nbformat": 4,
 "nbformat_minor": 5
}
